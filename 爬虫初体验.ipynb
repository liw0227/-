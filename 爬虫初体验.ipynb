{
 "cells": [
  {
   "cell_type": "code",
   "execution_count": null,
   "metadata": {},
   "outputs": [],
   "source": [
    "import requests\n",
    "city = input(\"请输入你要查询天气的城市：\")\n",
    "url =  f\"http://wthrcdn.etouch.cn/weather_mini?city={city}\"\n",
    "r = requests.get(url)\n",
    "print(r)"
   ]
  },
  {
   "cell_type": "code",
   "execution_count": null,
   "metadata": {},
   "outputs": [],
   "source": [
    "r.encoding = 'utf8'\n",
    "content = r.text\n",
    "print(content)"
   ]
  },
  {
   "cell_type": "code",
   "execution_count": null,
   "metadata": {},
   "outputs": [],
   "source": [
    "dict_city = r.json()\n",
    "print(dict_city)"
   ]
  },
  {
   "cell_type": "code",
   "execution_count": null,
   "metadata": {},
   "outputs": [],
   "source": [
    "city_data = dict_city.get('data')\n",
    "city_data"
   ]
  },
  {
   "cell_type": "code",
   "execution_count": null,
   "metadata": {},
   "outputs": [],
   "source": [
    "city_forecast = city_data['forecast'][0]\n",
    "city_forecast"
   ]
  },
  {
   "cell_type": "code",
   "execution_count": null,
   "metadata": {},
   "outputs": [],
   "source": [
    "print(city_forecast.get('date'))\n",
    "print(city_forecast.get('high'))\n",
    "print(city_forecast.get('low'))\n",
    "print(city_forecast.get('type'))"
   ]
  },
  {
   "cell_type": "code",
   "execution_count": null,
   "metadata": {},
   "outputs": [],
   "source": [
    "import requests\n",
    "while True:\n",
    "    city = input('请输入你需要查询天气的城市，退出请按回车。\\n')\n",
    "    if not city:\n",
    "        print('你已经退出。')\n",
    "        break\n",
    "    try:\n",
    "        r = requests.get(f'http://wthrcdn.etouch.cn/weather_mini?city={city}')\n",
    "    except:\n",
    "        break\n",
    "    dict_city = r.json()\n",
    "    city_data = dict_city.get('data')\n",
    "    if city_data:\n",
    "        city_forecast = city_data['forecast'][0]\n",
    "        print(city_forecast.get('date'))\n",
    "        print(city_forecast.get('high'))\n",
    "        print(city_forecast.get('low'))\n",
    "        print(city_forecast.get('type'))\n",
    "    else:\n",
    "        print(f'末能查询该城市{city}')\n"
   ]
  },
  {
   "cell_type": "code",
   "execution_count": null,
   "metadata": {},
   "outputs": [],
   "source": []
  },
  {
   "cell_type": "code",
   "execution_count": null,
   "metadata": {},
   "outputs": [],
   "source": []
  }
 ],
 "metadata": {
  "kernelspec": {
   "display_name": "Python 3",
   "language": "python",
   "name": "python3"
  },
  "language_info": {
   "codemirror_mode": {
    "name": "ipython",
    "version": 3
   },
   "file_extension": ".py",
   "mimetype": "text/x-python",
   "name": "python",
   "nbconvert_exporter": "python",
   "pygments_lexer": "ipython3",
   "version": "3.7.4"
  }
 },
 "nbformat": 4,
 "nbformat_minor": 2
}
