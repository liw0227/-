{
 "cells": [
  {
   "cell_type": "code",
   "execution_count": null,
   "metadata": {},
   "outputs": [],
   "source": [
    "Cookie: UOR=tushare.org,widget.weibo.com,tushare.org; SINAGLOBAL=7390674922453.071.1583809480086; ULV=1583809480091:1:1:1:7390674922453.071.1583809480086:; Ugrow-G0=7e0e6b57abe2c2f76f677abd9a9ed65d; SUB=_2AkMpLr83f8NxqwJRmP4UzGnmbo9-yArEieKfck7sJRMxHRl-yT92qkE5tRB6Aq6R2GQhKa4pwJT_cYQ9G3Cb739CflWB; SUBP=0033WrSXqPxfM72-Ws9jqgMF55529P9D9W5CHCf4ZwrHqYkVjLWJQFeo; YF-V5-G0=8c4aa275e8793f05bfb8641c780e617b; WBStorage=42212210b087ca50|undefined\n",
    "User-Agent: Mozilla/5.0 (Macintosh; Intel Mac OS X 10_15_3) AppleWebKit/537.36 (KHTML, like Gecko) Chrome/80.0.3987.132 Safari/537.36                      "
   ]
  },
  {
   "cell_type": "code",
   "execution_count": 13,
   "metadata": {},
   "outputs": [],
   "source": [
    "import requests\n",
    "url = 'https://weibo.com/a/hot/realtime'\n",
    "headers = {'Cookie': 'UOR=tushare.org,widget.weibo.com,tushare.org; SINAGLOBAL=7390674922453.071.1583809480086; ULV=1583809480091:1:1:1:7390674922453.071.1583809480086:; Ugrow-G0=7e0e6b57abe2c2f76f677abd9a9ed65d; SUB=_2AkMpLr83f8NxqwJRmP4UzGnmbo9-yArEieKfck7sJRMxHRl-yT92qkE5tRB6Aq6R2GQhKa4pwJT_cYQ9G3Cb739CflWB; SUBP=0033WrSXqPxfM72-Ws9jqgMF55529P9D9W5CHCf4ZwrHqYkVjLWJQFeo; YF-V5-G0=8c4aa275e8793f05bfb8641c780e617b; WBStorage=42212210b087ca50|undefined'}\n",
    "r = requests.get(url, headers = headers)\n",
    "with open('hotwb.html', 'wb') as f:\n",
    "    f.write(r.content)"
   ]
  },
  {
   "cell_type": "code",
   "execution_count": null,
   "metadata": {},
   "outputs": [],
   "source": []
  }
 ],
 "metadata": {
  "kernelspec": {
   "display_name": "Python 3",
   "language": "python",
   "name": "python3"
  },
  "language_info": {
   "codemirror_mode": {
    "name": "ipython",
    "version": 3
   },
   "file_extension": ".py",
   "mimetype": "text/x-python",
   "name": "python",
   "nbconvert_exporter": "python",
   "pygments_lexer": "ipython3",
   "version": "3.7.4"
  }
 },
 "nbformat": 4,
 "nbformat_minor": 2
}
