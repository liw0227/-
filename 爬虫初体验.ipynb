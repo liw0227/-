{
 "cells": [
  {
   "cell_type": "code",
   "execution_count": 1,
   "metadata": {},
   "outputs": [
    {
     "name": "stdout",
     "output_type": "stream",
     "text": [
      "请输入你要查询天气的城市：江门\n",
      "<Response [200]>\n"
     ]
    }
   ],
   "source": [
    "import requests\n",
    "city = input(\"请输入你要查询天气的城市：\")\n",
    "url =  f\"http://wthrcdn.etouch.cn/weather_mini?city={city}\"\n",
    "r = requests.get(url)\n",
    "print(r)"
   ]
  },
  {
   "cell_type": "code",
   "execution_count": 2,
   "metadata": {},
   "outputs": [
    {
     "name": "stdout",
     "output_type": "stream",
     "text": [
      "{\"data\":{\"yesterday\":{\"date\":\"14日星期六\",\"high\":\"高温 23℃\",\"fx\":\"无持续风向\",\"low\":\"低温 17℃\",\"fl\":\"<![CDATA[<3级]]>\",\"type\":\"多云\"},\"city\":\"江门\",\"forecast\":[{\"date\":\"15日星期天\",\"high\":\"高温 24℃\",\"fengli\":\"<![CDATA[<3级]]>\",\"low\":\"低温 17℃\",\"fengxiang\":\"无持续风向\",\"type\":\"多云\"},{\"date\":\"16日星期一\",\"high\":\"高温 24℃\",\"fengli\":\"<![CDATA[<3级]]>\",\"low\":\"低温 18℃\",\"fengxiang\":\"无持续风向\",\"type\":\"阴\"},{\"date\":\"17日星期二\",\"high\":\"高温 25℃\",\"fengli\":\"<![CDATA[<3级]]>\",\"low\":\"低温 18℃\",\"fengxiang\":\"无持续风向\",\"type\":\"多云\"},{\"date\":\"18日星期三\",\"high\":\"高温 24℃\",\"fengli\":\"<![CDATA[<3级]]>\",\"low\":\"低温 19℃\",\"fengxiang\":\"无持续风向\",\"type\":\"阵雨\"},{\"date\":\"19日星期四\",\"high\":\"高温 24℃\",\"fengli\":\"<![CDATA[<3级]]>\",\"low\":\"低温 20℃\",\"fengxiang\":\"无持续风向\",\"type\":\"阵雨\"}],\"ganmao\":\"天气转凉，空气湿度较大，较易发生感冒，体质较弱的朋友请注意适当防护。\",\"wendu\":\"19\"},\"status\":1000,\"desc\":\"OK\"}\n"
     ]
    }
   ],
   "source": [
    "r.encoding = 'utf8'\n",
    "content = r.text\n",
    "print(content)"
   ]
  },
  {
   "cell_type": "code",
   "execution_count": 3,
   "metadata": {},
   "outputs": [
    {
     "name": "stdout",
     "output_type": "stream",
     "text": [
      "{'data': {'yesterday': {'date': '14日星期六', 'high': '高温 23℃', 'fx': '无持续风向', 'low': '低温 17℃', 'fl': '<![CDATA[<3级]]>', 'type': '多云'}, 'city': '江门', 'forecast': [{'date': '15日星期天', 'high': '高温 24℃', 'fengli': '<![CDATA[<3级]]>', 'low': '低温 17℃', 'fengxiang': '无持续风向', 'type': '多云'}, {'date': '16日星期一', 'high': '高温 24℃', 'fengli': '<![CDATA[<3级]]>', 'low': '低温 18℃', 'fengxiang': '无持续风向', 'type': '阴'}, {'date': '17日星期二', 'high': '高温 25℃', 'fengli': '<![CDATA[<3级]]>', 'low': '低温 18℃', 'fengxiang': '无持续风向', 'type': '多云'}, {'date': '18日星期三', 'high': '高温 24℃', 'fengli': '<![CDATA[<3级]]>', 'low': '低温 19℃', 'fengxiang': '无持续风向', 'type': '阵雨'}, {'date': '19日星期四', 'high': '高温 24℃', 'fengli': '<![CDATA[<3级]]>', 'low': '低温 20℃', 'fengxiang': '无持续风向', 'type': '阵雨'}], 'ganmao': '天气转凉，空气湿度较大，较易发生感冒，体质较弱的朋友请注意适当防护。', 'wendu': '19'}, 'status': 1000, 'desc': 'OK'}\n"
     ]
    }
   ],
   "source": [
    "dict_city = r.json()\n",
    "print(dict_city)"
   ]
  },
  {
   "cell_type": "code",
   "execution_count": 4,
   "metadata": {},
   "outputs": [
    {
     "data": {
      "text/plain": [
       "{'yesterday': {'date': '14日星期六',\n",
       "  'high': '高温 23℃',\n",
       "  'fx': '无持续风向',\n",
       "  'low': '低温 17℃',\n",
       "  'fl': '<![CDATA[<3级]]>',\n",
       "  'type': '多云'},\n",
       " 'city': '江门',\n",
       " 'forecast': [{'date': '15日星期天',\n",
       "   'high': '高温 24℃',\n",
       "   'fengli': '<![CDATA[<3级]]>',\n",
       "   'low': '低温 17℃',\n",
       "   'fengxiang': '无持续风向',\n",
       "   'type': '多云'},\n",
       "  {'date': '16日星期一',\n",
       "   'high': '高温 24℃',\n",
       "   'fengli': '<![CDATA[<3级]]>',\n",
       "   'low': '低温 18℃',\n",
       "   'fengxiang': '无持续风向',\n",
       "   'type': '阴'},\n",
       "  {'date': '17日星期二',\n",
       "   'high': '高温 25℃',\n",
       "   'fengli': '<![CDATA[<3级]]>',\n",
       "   'low': '低温 18℃',\n",
       "   'fengxiang': '无持续风向',\n",
       "   'type': '多云'},\n",
       "  {'date': '18日星期三',\n",
       "   'high': '高温 24℃',\n",
       "   'fengli': '<![CDATA[<3级]]>',\n",
       "   'low': '低温 19℃',\n",
       "   'fengxiang': '无持续风向',\n",
       "   'type': '阵雨'},\n",
       "  {'date': '19日星期四',\n",
       "   'high': '高温 24℃',\n",
       "   'fengli': '<![CDATA[<3级]]>',\n",
       "   'low': '低温 20℃',\n",
       "   'fengxiang': '无持续风向',\n",
       "   'type': '阵雨'}],\n",
       " 'ganmao': '天气转凉，空气湿度较大，较易发生感冒，体质较弱的朋友请注意适当防护。',\n",
       " 'wendu': '19'}"
      ]
     },
     "execution_count": 4,
     "metadata": {},
     "output_type": "execute_result"
    }
   ],
   "source": [
    "city_data = dict_city.get('data')\n",
    "city_data"
   ]
  },
  {
   "cell_type": "code",
   "execution_count": 5,
   "metadata": {},
   "outputs": [
    {
     "data": {
      "text/plain": [
       "{'date': '15日星期天',\n",
       " 'high': '高温 24℃',\n",
       " 'fengli': '<![CDATA[<3级]]>',\n",
       " 'low': '低温 17℃',\n",
       " 'fengxiang': '无持续风向',\n",
       " 'type': '多云'}"
      ]
     },
     "execution_count": 5,
     "metadata": {},
     "output_type": "execute_result"
    }
   ],
   "source": [
    "city_forecast = city_data['forecast'][0]\n",
    "city_forecast"
   ]
  },
  {
   "cell_type": "code",
   "execution_count": 6,
   "metadata": {},
   "outputs": [
    {
     "name": "stdout",
     "output_type": "stream",
     "text": [
      "15日星期天\n",
      "高温 24℃\n",
      "低温 17℃\n",
      "多云\n"
     ]
    }
   ],
   "source": [
    "print(city_forecast.get('date'))\n",
    "print(city_forecast.get('high'))\n",
    "print(city_forecast.get('low'))\n",
    "print(city_forecast.get('type'))"
   ]
  },
  {
   "cell_type": "code",
   "execution_count": 1,
   "metadata": {},
   "outputs": [
    {
     "name": "stdout",
     "output_type": "stream",
     "text": [
      "请输入你需要查询天气的城市，退出请按回车。\n",
      "ia\n",
      "末能查询该城市ia\n",
      "请输入你需要查询天气的城市，退出请按回车。\n",
      "江门\n",
      "13日星期五\n",
      "高温 26℃\n",
      "低温 20℃\n",
      "小雨\n",
      "请输入你需要查询天气的城市，退出请按回车。\n",
      "鹤山\n",
      "13日星期五\n",
      "高温 26℃\n",
      "低温 20℃\n",
      "小雨\n",
      "请输入你需要查询天气的城市，退出请按回车。\n",
      "\n",
      "你已经退出。\n"
     ]
    }
   ],
   "source": [
    "import requests\n",
    "while True:\n",
    "    city = input('请输入你需要查询天气的城市，退出请按回车。\\n')\n",
    "    if not city:\n",
    "        print('你已经退出。')\n",
    "        break\n",
    "    try:\n",
    "        r = requests.get(f'http://wthrcdn.etouch.cn/weather_mini?city={city}')\n",
    "    except:\n",
    "        break\n",
    "    dict_city = r.json()\n",
    "    city_data = dict_city.get('data')\n",
    "    if city_data:\n",
    "        city_forecast = city_data['forecast'][0]\n",
    "        print(city_forecast.get('date'))\n",
    "        print(city_forecast.get('high'))\n",
    "        print(city_forecast.get('low'))\n",
    "        print(city_forecast.get('type'))\n",
    "    else:\n",
    "        print(f'末能查询该城市{city}')\n"
   ]
  },
  {
   "cell_type": "code",
   "execution_count": null,
   "metadata": {},
   "outputs": [],
   "source": []
  },
  {
   "cell_type": "code",
   "execution_count": null,
   "metadata": {},
   "outputs": [],
   "source": []
  }
 ],
 "metadata": {
  "kernelspec": {
   "display_name": "Python 3",
   "language": "python",
   "name": "python3"
  },
  "language_info": {
   "codemirror_mode": {
    "name": "ipython",
    "version": 3
   },
   "file_extension": ".py",
   "mimetype": "text/x-python",
   "name": "python",
   "nbconvert_exporter": "python",
   "pygments_lexer": "ipython3",
   "version": "3.7.4"
  }
 },
 "nbformat": 4,
 "nbformat_minor": 2
}
